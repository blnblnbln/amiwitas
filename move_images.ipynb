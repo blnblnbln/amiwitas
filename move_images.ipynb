{
 "cells": [
  {
   "cell_type": "code",
   "execution_count": null,
   "metadata": {},
   "outputs": [],
   "source": [
    "from astropy.io import fits\n",
    "import matplotlib.pyplot as plt\n",
    "from matplotlib.colors import LogNorm\n",
    "from astropy.wcs import WCS\n"
   ]
  },
  {
   "cell_type": "code",
   "execution_count": null,
   "metadata": {},
   "outputs": [],
   "source": [
    "fits_image = fits.open('ngc1313_49.5621_-66.5330.fits')\n",
    "image = fits_image[0].data"
   ]
  },
  {
   "cell_type": "code",
   "execution_count": null,
   "metadata": {},
   "outputs": [],
   "source": [
    "RA = fits_image[0].header['CRVAL1']\n",
    "DEC = fits_image[0].header['CRVAL2']"
   ]
  },
  {
   "cell_type": "code",
   "execution_count": null,
   "metadata": {},
   "outputs": [],
   "source": [
    "wcs_dict = {\n",
    "    'CTYPE1'  : 'RA---TAN',           #                               \n",
    "    'CTYPE2'  : 'DEC--TAN',           # TANgent plane                                  \n",
    "    'CRVAL1'  :              49.5621, # Reference RA                                   \n",
    "    'CRVAL2'  :              -66.533, # Reference Dec                                  \n",
    "    'CRPIX1'  :                128.5, # Reference x                                    \n",
    "    'CRPIX2'  :                128.5, # Reference y                                    \n",
    "    'CD1_1'   : -0.00222222222222222, # CD matrix                                      \n",
    "    'CD1_2'   :                   0., # CD matrix                                      \n",
    "    'CD2_1'   :                   0., # CD matrix                                      \n",
    "    'CD2_2 '  :  0.00222222222222222, # CD matrix                                      \n",
    "    'IMAGEW'  :                  256, # Image width                                    \n",
    "    'IMAGEH'  :                  256 # Image height \n",
    "    }  "
   ]
  }
 ],
 "metadata": {
  "language_info": {
   "name": "python"
  }
 },
 "nbformat": 4,
 "nbformat_minor": 2
}
